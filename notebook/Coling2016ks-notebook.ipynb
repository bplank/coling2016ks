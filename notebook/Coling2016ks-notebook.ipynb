{
 "cells": [
  {
   "cell_type": "code",
   "execution_count": 3,
   "metadata": {
    "collapsed": false
   },
   "outputs": [],
   "source": [
    "import pandas as pd\n",
    "data = pd.read_csv(\"data/keystrokeo_ext.csv\")"
   ]
  },
  {
   "cell_type": "markdown",
   "metadata": {},
   "source": [
    "Number of unique users:"
   ]
  },
  {
   "cell_type": "code",
   "execution_count": 305,
   "metadata": {
    "collapsed": false
   },
   "outputs": [
    {
     "data": {
      "text/plain": [
       "39"
      ]
     },
     "execution_count": 305,
     "metadata": {},
     "output_type": "execute_result"
    }
   ],
   "source": [
    "len(data[\"user\"].unique())"
   ]
  },
  {
   "cell_type": "code",
   "execution_count": 306,
   "metadata": {
    "collapsed": false
   },
   "outputs": [
    {
     "data": {
      "text/plain": [
       "Index(['user', 'session', 'Unnamed: 2', 'duration', 'keyname', 'pause',\n",
       "       'pause_ag', 'timepress', 'timerelease'],\n",
       "      dtype='object')"
      ]
     },
     "execution_count": 306,
     "metadata": {},
     "output_type": "execute_result"
    }
   ],
   "source": [
    "data.keys()"
   ]
  },
  {
   "cell_type": "markdown",
   "metadata": {},
   "source": [
    "## Plot pause distribution "
   ]
  },
  {
   "cell_type": "code",
   "execution_count": 326,
   "metadata": {
    "collapsed": false
   },
   "outputs": [],
   "source": [
    "userid_1=11\n",
    "userdata_1=data[data[\"user\"]==userid_1]\n",
    "\n",
    "userid_2=26\n",
    "userdata_2=data[data[\"user\"]==userid_2]\n",
    "\n",
    "pause_types = {\"writingr\": \"pause\",\"ag\": \"pause_ag\"}\n",
    "pause_type = pause_types[\"ag\"]\n"
   ]
  },
  {
   "cell_type": "code",
   "execution_count": 308,
   "metadata": {
    "collapsed": false
   },
   "outputs": [
    {
     "data": {
      "text/plain": [
       "<matplotlib.text.Text at 0x13d3be860>"
      ]
     },
     "execution_count": 308,
     "metadata": {},
     "output_type": "execute_result"
    },
    {
     "data": {
      "image/png": "[encoded data removed]",
      "text/plain": [
       "<matplotlib.figure.Figure at 0x11ac0f908>"
      ]
     },
     "metadata": {},
     "output_type": "display_data"
    }
   ],
   "source": [
    "% matplotlib inline\n",
    "import math\n",
    "import seaborn as sns\n",
    "import matplotlib.pyplot as plt\n",
    "\n",
    "df_pauses_1 = pd.DataFrame({\"pauses user {}\".format(userid_1): [math.log(p) for p in userdata_1[pause_type] if p > 0]})\n",
    "df_pauses_2 = pd.DataFrame({\"pauses user {}\".format(userid_2): [math.log(p) for p in userdata_2[pause_type] if p > 0]})\n",
    "#df_pauses.hist()\n",
    "\n",
    "pdat_1=df_pauses_1[\"pauses user {}\".format(userid_1)]\n",
    "result_1 = plt.hist(pdat_1)\n",
    "plt.axvline(pdat_1.median(), color='b', linestyle='solid', linewidth=2)\n",
    "plt.axvline(math.log(500), color='r', linestyle='dotted', linewidth=2)\n",
    "plt.text(8, 2000, 'median: {0:.2f}'.format(pdat_1.median())) \n",
    "plt.title(\"pauses user {}\".format(userid_1))\n",
    "plt.xlabel(\"log(pause)\")"
   ]
  },
  {
   "cell_type": "code",
   "execution_count": 309,
   "metadata": {
    "collapsed": false
   },
   "outputs": [
    {
     "data": {
      "text/plain": [
       "<matplotlib.text.Text at 0x13d3d06a0>"
      ]
     },
     "execution_count": 309,
     "metadata": {},
     "output_type": "execute_result"
    },
    {
     "data": {
      "image/png": "[encoded data removed]",
      "text/plain": [
       "<matplotlib.figure.Figure at 0x11ac0fb00>"
      ]
     },
     "metadata": {},
     "output_type": "display_data"
    }
   ],
   "source": [
    "pdat_2=df_pauses_2[\"pauses user {}\".format(userid_2)]\n",
    "result_2 = plt.hist(pdat_2)\n",
    "plt.axvline(pdat_2.median(), color='b', linestyle='solid', linewidth=2)\n",
    "plt.axvline(math.log(500), color='r', linestyle='dotted', linewidth=2)\n",
    "plt.text(8, 1000, 'median: {0:.2f}'.format(pdat_2.median())) \n",
    "plt.title(\"pauses user {}\".format(userid_2))\n",
    "plt.xlabel(\"log(pause)\")"
   ]
  },
  {
   "cell_type": "code",
   "execution_count": null,
   "metadata": {
    "collapsed": false
   },
   "outputs": [],
   "source": []
  },
  {
   "cell_type": "markdown",
   "metadata": {},
   "source": [
    "## Pause vs word len\n"
   ]
  },
  {
   "cell_type": "code",
   "execution_count": 310,
   "metadata": {
    "collapsed": false
   },
   "outputs": [],
   "source": [
    "from src.preprocess_steward import *\n",
    "levels=[\"user\",\"session\"]\n",
    "df = pd.read_csv(\"data/keystrokeo_ext.csv\", index_col=levels)"
   ]
  },
  {
   "cell_type": "code",
   "execution_count": 172,
   "metadata": {
    "collapsed": false
   },
   "outputs": [],
   "source": [
    "dfl = df.groupby(level=levels).apply(get_duration_between_words_type_ag)"
   ]
  },
  {
   "cell_type": "code",
   "execution_count": 311,
   "metadata": {
    "collapsed": false
   },
   "outputs": [
    {
     "data": {
      "text/html": [
       "<div>\n",
       "<table border=\"1\" class=\"dataframe\">\n",
       "  <thead>\n",
       "    <tr style=\"text-align: right;\">\n",
       "      <th></th>\n",
       "      <th></th>\n",
       "      <th></th>\n",
       "      <th>token_len</th>\n",
       "      <th>token_pauses</th>\n",
       "      <th>tokens</th>\n",
       "      <th>type</th>\n",
       "    </tr>\n",
       "    <tr>\n",
       "      <th>user</th>\n",
       "      <th>session</th>\n",
       "      <th></th>\n",
       "      <th></th>\n",
       "      <th></th>\n",
       "      <th></th>\n",
       "      <th></th>\n",
       "    </tr>\n",
       "  </thead>\n",
       "  <tbody>\n",
       "    <tr>\n",
       "      <th rowspan=\"5\" valign=\"top\">1</th>\n",
       "      <th rowspan=\"5\" valign=\"top\">1</th>\n",
       "      <th>0</th>\n",
       "      <td>11</td>\n",
       "      <td>0.0</td>\n",
       "      <td>Coefficient</td>\n",
       "      <td>ag</td>\n",
       "    </tr>\n",
       "    <tr>\n",
       "      <th>1</th>\n",
       "      <td>2</td>\n",
       "      <td>1088.0</td>\n",
       "      <td>of</td>\n",
       "      <td>ag</td>\n",
       "    </tr>\n",
       "    <tr>\n",
       "      <th>2</th>\n",
       "      <td>13</td>\n",
       "      <td>480.0</td>\n",
       "      <td>Determination</td>\n",
       "      <td>ag</td>\n",
       "    </tr>\n",
       "    <tr>\n",
       "      <th>3</th>\n",
       "      <td>8</td>\n",
       "      <td>80.0</td>\n",
       "      <td>measures</td>\n",
       "      <td>ag</td>\n",
       "    </tr>\n",
       "    <tr>\n",
       "      <th>4</th>\n",
       "      <td>3</td>\n",
       "      <td>0.0</td>\n",
       "      <td>are</td>\n",
       "      <td>ag</td>\n",
       "    </tr>\n",
       "  </tbody>\n",
       "</table>\n",
       "</div>"
      ],
      "text/plain": [
       "                token_len  token_pauses         tokens type\n",
       "user session                                               \n",
       "1    1       0         11           0.0    Coefficient   ag\n",
       "             1          2        1088.0             of   ag\n",
       "             2         13         480.0  Determination   ag\n",
       "             3          8          80.0       measures   ag\n",
       "             4          3           0.0            are   ag"
      ]
     },
     "execution_count": 311,
     "metadata": {},
     "output_type": "execute_result"
    }
   ],
   "source": [
    "dfl.head()"
   ]
  },
  {
   "cell_type": "code",
   "execution_count": 312,
   "metadata": {
    "collapsed": false
   },
   "outputs": [
    {
     "data": {
      "text/html": [
       "<div>\n",
       "<table border=\"1\" class=\"dataframe\">\n",
       "  <thead>\n",
       "    <tr style=\"text-align: right;\">\n",
       "      <th></th>\n",
       "      <th></th>\n",
       "      <th></th>\n",
       "      <th>token_len</th>\n",
       "      <th>token_pauses</th>\n",
       "      <th>tokens</th>\n",
       "      <th>type</th>\n",
       "    </tr>\n",
       "    <tr>\n",
       "      <th>user</th>\n",
       "      <th>session</th>\n",
       "      <th></th>\n",
       "      <th></th>\n",
       "      <th></th>\n",
       "      <th></th>\n",
       "      <th></th>\n",
       "    </tr>\n",
       "  </thead>\n",
       "  <tbody>\n",
       "    <tr>\n",
       "      <th rowspan=\"5\" valign=\"top\">1</th>\n",
       "      <th rowspan=\"5\" valign=\"top\">1</th>\n",
       "      <th>0</th>\n",
       "      <td>11</td>\n",
       "      <td>0.0</td>\n",
       "      <td>Coefficient</td>\n",
       "      <td>ag</td>\n",
       "    </tr>\n",
       "    <tr>\n",
       "      <th>1</th>\n",
       "      <td>2</td>\n",
       "      <td>1088.0</td>\n",
       "      <td>of</td>\n",
       "      <td>ag</td>\n",
       "    </tr>\n",
       "    <tr>\n",
       "      <th>2</th>\n",
       "      <td>13</td>\n",
       "      <td>480.0</td>\n",
       "      <td>Determination</td>\n",
       "      <td>ag</td>\n",
       "    </tr>\n",
       "    <tr>\n",
       "      <th>3</th>\n",
       "      <td>8</td>\n",
       "      <td>80.0</td>\n",
       "      <td>measures</td>\n",
       "      <td>ag</td>\n",
       "    </tr>\n",
       "    <tr>\n",
       "      <th>4</th>\n",
       "      <td>3</td>\n",
       "      <td>0.0</td>\n",
       "      <td>are</td>\n",
       "      <td>ag</td>\n",
       "    </tr>\n",
       "  </tbody>\n",
       "</table>\n",
       "</div>"
      ],
      "text/plain": [
       "                token_len  token_pauses         tokens type\n",
       "user session                                               \n",
       "1    1       0         11           0.0    Coefficient   ag\n",
       "             1          2        1088.0             of   ag\n",
       "             2         13         480.0  Determination   ag\n",
       "             3          8          80.0       measures   ag\n",
       "             4          3           0.0            are   ag"
      ]
     },
     "execution_count": 312,
     "metadata": {},
     "output_type": "execute_result"
    }
   ],
   "source": [
    "dfl.loc[dfl['token_pauses'] < 0, 'token_pauses'] = 0\n",
    "dfl.head()\n"
   ]
  },
  {
   "cell_type": "code",
   "execution_count": 317,
   "metadata": {
    "collapsed": false
   },
   "outputs": [],
   "source": [
    "from scipy.stats.stats import pearsonr\n",
    "import math"
   ]
  },
  {
   "cell_type": "code",
   "execution_count": 318,
   "metadata": {
    "collapsed": false
   },
   "outputs": [
    {
     "data": {
      "text/plain": [
       "(0.080811404684414445, 0.49979550377079218)"
      ]
     },
     "execution_count": 318,
     "metadata": {},
     "output_type": "execute_result"
    },
    {
     "data": {
      "image/png": "[encoded data removed]",
      "text/plain": [
       "<matplotlib.figure.Figure at 0x139f8ecf8>"
      ]
     },
     "metadata": {},
     "output_type": "display_data"
    }
   ],
   "source": [
    "\n",
    "all_nozero = dfl[dfl[\"token_pauses\"]>0]\n",
    "log_pauses = [math.log(p) for p in all_nozero.iloc[(7,1)]['token_pauses']]\n",
    "user7 = pd.DataFrame({\"pauses\": log_pauses, \"wordlen\": all_nozero.iloc[(7,1)]['token_len']})\n",
    "user7.plot.scatter(\"pauses\", \"wordlen\")\n",
    "pearsonr(log_pauses, all_nozero.iloc[(7,1)]['token_len'])"
   ]
  },
  {
   "cell_type": "code",
   "execution_count": 319,
   "metadata": {
    "collapsed": false
   },
   "outputs": [
    {
     "data": {
      "text/plain": [
       "(-0.12808921196623635, 0.17060124583656547)"
      ]
     },
     "execution_count": 319,
     "metadata": {},
     "output_type": "execute_result"
    },
    {
     "data": {
      "image/png": "[encoded data removed]",
      "text/plain": [
       "<matplotlib.figure.Figure at 0x139ba1278>"
      ]
     },
     "metadata": {},
     "output_type": "display_data"
    }
   ],
   "source": [
    "uid=3\n",
    "log_pauses = [math.log(p) for p in all_nozero.iloc[(uid,1)]['token_pauses']]\n",
    "user7 = pd.DataFrame({\"pauses\": log_pauses, \"wordlen\": all_nozero.iloc[(uid,1)]['token_len']})\n",
    "user7.plot.scatter(\"pauses\", \"wordlen\")\n",
    "pearsonr(log_pauses, all_nozero.iloc[(uid,1)]['token_len'])"
   ]
  },
  {
   "cell_type": "code",
   "execution_count": 320,
   "metadata": {
    "collapsed": false
   },
   "outputs": [
    {
     "data": {
      "text/plain": [
       "count     95548.000000\n",
       "mean        825.471480\n",
       "std        3923.845562\n",
       "min           1.000000\n",
       "25%          64.000000\n",
       "50%         128.000000\n",
       "75%         385.000000\n",
       "max      241698.000000\n",
       "Name: token_pauses, dtype: float64"
      ]
     },
     "execution_count": 320,
     "metadata": {},
     "output_type": "execute_result"
    }
   ],
   "source": [
    "dfl[dfl[\"token_pauses\"]>0][\"token_pauses\"].describe()"
   ]
  },
  {
   "cell_type": "code",
   "execution_count": 321,
   "metadata": {
    "collapsed": false
   },
   "outputs": [],
   "source": [
    "#dfl_nozero_max10k = dfl[(dfl[\"token_pauses\"]>0) & (dfl[\"token_pauses\"]<10000)]\n",
    "#allrm = pd.DataFrame({\"pauses\": dfl_nozero_max10k['token_pauses'], \"wordlen\": dfl_nozero_max10k['token_len']})\n",
    "#allrm.plot.scatter(\"pauses\", \"wordlen\")"
   ]
  },
  {
   "cell_type": "markdown",
   "metadata": {},
   "source": [
    "## Wikitionary\n"
   ]
  },
  {
   "cell_type": "code",
   "execution_count": 322,
   "metadata": {
    "collapsed": false
   },
   "outputs": [
    {
     "name": "stdout",
     "output_type": "stream",
     "text": [
      "{'DET', 'ADV'}\n"
     ]
    }
   ],
   "source": [
    "lines = open(\"/Users/bplank/corpora/wiktionary/en.tags.li\").readlines()\n",
    "from collections import defaultdict\n",
    "wik = defaultdict(set)\n",
    "for line in lines:\n",
    "    _,w,t,_ = line.split()\n",
    "    wik[w].add(t)\n",
    "print(wik['the'])"
   ]
  },
  {
   "cell_type": "code",
   "execution_count": 227,
   "metadata": {
    "collapsed": false
   },
   "outputs": [],
   "source": [
    "#uid=1\n",
    "#user1_pauses = [math.log(p) for p in all_nozero.iloc[(uid,1)]['token_pauses']]\n",
    "#user1_tokens = all_nozero.iloc[(uid,1)]['tokens']\n",
    "# take all!\n",
    "user1_pauses = [math.log(p) for p in all_nozero['token_pauses']]\n",
    "user1_tokens = all_nozero['tokens']"
   ]
  },
  {
   "cell_type": "code",
   "execution_count": 323,
   "metadata": {
    "collapsed": false
   },
   "outputs": [
    {
     "data": {
      "text/plain": [
       "array([<matplotlib.axes._subplots.AxesSubplot object at 0x13a5c04e0>], dtype=object)"
      ]
     },
     "execution_count": 323,
     "metadata": {},
     "output_type": "execute_result"
    },
    {
     "data": {
      "image/png": "[encoded data removed]",
      "text/plain": [
       "<matplotlib.figure.Figure at 0x13d408b00>"
      ]
     },
     "metadata": {},
     "output_type": "display_data"
    }
   ],
   "source": [
    "tokens_in_dict = []\n",
    "det = []\n",
    "noun = []\n",
    "verb = []\n",
    "prt = []\n",
    "punct = []\n",
    "num = []\n",
    "adj = []\n",
    "adp = []\n",
    "\n",
    "det_len = []\n",
    "noun_len = []\n",
    "verb_len = []\n",
    "prt_len = []\n",
    "punct_len = []\n",
    "num_len = []\n",
    "adj_len = []\n",
    "adp_len = []\n",
    "for w,pause in zip(user1_tokens, user1_pauses):\n",
    "    if w in wik:\n",
    "        tokens_in_dict.append((w, wik[w], pause))\n",
    "        #pause = math.log(pause)\n",
    "        if \"DET\" in wik[w]:\n",
    "            det.append(pause)\n",
    "            det_len.append(len(w))\n",
    "        if \"NOUN\" in wik[w]:\n",
    "            noun.append(pause)\n",
    "            noun_len.append(len(w))\n",
    "        if \"PRT\" in wik[w]:\n",
    "            prt.append(pause)\n",
    "            prt_len.append(len(w))\n",
    "        if \"VERB\" in wik[w]:\n",
    "            verb.append(pause)\n",
    "            verb_len.append(len(w))\n",
    "        if \".\" in wik[w]:\n",
    "            punct.append(pause)\n",
    "            punct_len.append(len(w))\n",
    "        if \"NUM\" in wik[w]:\n",
    "            num.append(pause)\n",
    "            num_len.append(len(w))\n",
    "        if \"ADJ\" in wik[w]:\n",
    "            adj.append(pause)\n",
    "            adj_len.append(len(w))\n",
    "        if \"ADP\" in wik[w]:\n",
    "            adp.append(pause)\n",
    "            adp_len.append(len(w))\n",
    "pos_det = pd.DataFrame({\"det\": det}) \n",
    "pos_noun = pd.DataFrame({\"noun\": noun})\n",
    "pos_verb = pd.DataFrame({\"verb\": verb})\n",
    "pos_prt = pd.DataFrame({\"prt\": prt})\n",
    "pos_punct = pd.DataFrame({\"punct\": punct})\n",
    "pos_num = pd.DataFrame({\"num\": num})\n",
    "pos_adj = pd.DataFrame({\"adj\": adj})\n",
    "pos_adp = pd.DataFrame({\"adp\": adp})\n",
    "\n",
    "import matplotlib.pyplot as plt\n",
    "fig, axes = plt.subplots(nrows=2, ncols=3)\n",
    "\n",
    "pos_det.hist(ax=axes[1,0])\n",
    "pos_noun.hist(ax=axes[0,0])\n",
    "pos_prt.hist(ax=axes[1,2])\n",
    "pos_verb.hist(ax=axes[0,1])\n",
    "pos_adj.hist(ax=axes[0,2])\n",
    "pos_adp.hist(ax=axes[1,1])"
   ]
  },
  {
   "cell_type": "code",
   "execution_count": 324,
   "metadata": {
    "collapsed": false
   },
   "outputs": [],
   "source": [
    "user_id = 5\n",
    "tokens = []\n",
    "pauses = []\n",
    "for name, group in all_nozero.groupby(level=\"user\"):\n",
    "    if name == user_id:\n",
    "        tokens = group[\"tokens\"]\n",
    "        pauses = [math.log(p) for p in group[\"token_pauses\"]]\n",
    "        break"
   ]
  },
  {
   "cell_type": "code",
   "execution_count": 325,
   "metadata": {
    "collapsed": false
   },
   "outputs": [
    {
     "data": {
      "text/plain": [
       "array([<matplotlib.axes._subplots.AxesSubplot object at 0x13d399668>], dtype=object)"
      ]
     },
     "execution_count": 325,
     "metadata": {},
     "output_type": "execute_result"
    },
    {
     "data": {
      "image/png": "[encoded data removed]",
      "text/plain": [
       "<matplotlib.figure.Figure at 0x13d36ec50>"
      ]
     },
     "metadata": {},
     "output_type": "display_data"
    }
   ],
   "source": [
    "tokens_in_dict = []\n",
    "det = []\n",
    "noun = []\n",
    "verb = []\n",
    "prt = []\n",
    "punct = []\n",
    "num = []\n",
    "adj = []\n",
    "\n",
    "det_len = []\n",
    "noun_len = []\n",
    "verb_len = []\n",
    "prt_len = []\n",
    "punct_len = []\n",
    "num_len = []\n",
    "adj_len = []\n",
    "for w,pause in zip(tokens, pauses):\n",
    "    if w in wik:\n",
    "        tokens_in_dict.append((w, wik[w], pause))\n",
    "        #pause = math.log(pause)\n",
    "        if \"DET\" in wik[w]:\n",
    "            det.append(pause)\n",
    "            det_len.append(len(w))\n",
    "        if \"NOUN\" in wik[w]:\n",
    "            noun.append(pause)\n",
    "            noun_len.append(len(w))\n",
    "        if \"PRT\" in wik[w]:\n",
    "            prt.append(pause)\n",
    "            prt_len.append(len(w))\n",
    "        if \"VERB\" in wik[w]:\n",
    "            verb.append(pause)\n",
    "            verb_len.append(len(w))\n",
    "        if \".\" in wik[w]:\n",
    "            punct.append(pause)\n",
    "            punct_len.append(len(w))\n",
    "        if \"NUM\" in wik[w]:\n",
    "            num.append(pause)\n",
    "            num_len.append(len(w))\n",
    "        if \"ADJ\" in wik[w]:\n",
    "            adj.append(pause)\n",
    "            adj_len.append(len(w))\n",
    "pos_det = pd.DataFrame({\"det\": det}) \n",
    "pos_noun = pd.DataFrame({\"noun\": noun})\n",
    "pos_verb = pd.DataFrame({\"verb\": verb})\n",
    "pos_prt = pd.DataFrame({\"prt\": prt})\n",
    "pos_punct = pd.DataFrame({\"punct\": punct})\n",
    "pos_num = pd.DataFrame({\"num\": num})\n",
    "pos_adj = pd.DataFrame({\"adj\": adj})\n",
    "import matplotlib.pyplot as plt\n",
    "fig, axes = plt.subplots(nrows=2, ncols=2)\n",
    "pos_det.hist(ax=axes[1,0])\n",
    "pos_noun.hist(ax=axes[0,0])\n",
    "pos_prt.hist(ax=axes[1,1])\n",
    "pos_verb.hist(ax=axes[0,1])\n",
    "#pos_adj.hist(ax=axes[0,2])\n",
    "#pos_adp.hist(ax=axes[1,2])"
   ]
  }
 ],
 "metadata": {
  "kernelspec": {
   "display_name": "Python 3",
   "language": "python",
   "name": "python3"
  },
  "language_info": {
   "codemirror_mode": {
    "name": "ipython",
    "version": 3
   },
   "file_extension": ".py",
   "mimetype": "text/x-python",
   "name": "python",
   "nbconvert_exporter": "python",
   "pygments_lexer": "ipython3",
   "version": "3.5.1"
  }
 },
 "nbformat": 4,
 "nbformat_minor": 0
}
